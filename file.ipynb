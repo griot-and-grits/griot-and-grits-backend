{
 "cells": [
  {
   "cell_type": "code",
   "execution_count": 1,
   "metadata": {},
   "outputs": [],
   "source": [
    "%load_ext autoreload\n",
    "%autoreload 2\n",
    "from src.object_storage import ObjectStorage\n",
    "from src.metadata_service import MetadataService"
   ]
  },
  {
   "cell_type": "code",
   "execution_count": null,
   "metadata": {},
   "outputs": [],
   "source": [
    "os = ObjectStorage(endpoint=\"xxx\", secure=True)"
   ]
  },
  {
   "cell_type": "code",
   "execution_count": 3,
   "metadata": {},
   "outputs": [
    {
     "name": "stdout",
     "output_type": "stream",
     "text": [
      "assets/raw/recordings/bulow_brian-20241218-1of2.mp4\n",
      "assets/raw/recordings/bulow_brian-20241218-2of2.mp4\n",
      "assets/raw/recordings/clark-irene-20241221-1of2.mp4\n",
      "assets/raw/recordings/clark-irene-20241221-2of2.mp4\n",
      "assets/raw/recordings/mccoy_ragan_deborah-20241224-1of5.mp4\n",
      "assets/raw/recordings/mccoy_ragan_deborah-20241224-2of5.mp4\n",
      "assets/raw/recordings/mccoy_ragan_deborah-20241224-3of5.mp4\n",
      "assets/raw/recordings/mccoy_ragan_deborah-20241224-4of5.mp4\n",
      "assets/raw/recordings/mccoy_ragan_deborah-20241224-5of5.mp4\n",
      "assets/raw/recordings/mcduffie-sharon-20241221-1of2.mp4\n",
      "assets/raw/recordings/sample_video.mp4\n"
     ]
    }
   ],
   "source": [
    "for g in os.client.list_objects(\"griot-grits-catalog\", prefix=\"assets/raw/recordings/\"):\n",
    "    print(g.object_name)"
   ]
  },
  {
   "cell_type": "code",
   "execution_count": 17,
   "metadata": {},
   "outputs": [],
   "source": [
    "os.download_file(\"griot-grits-catalog\", s3_path=\"assets/raw/recordings/sample_video.mp4\", file_path=\"sample_video.mp4\")"
   ]
  },
  {
   "cell_type": "code",
   "execution_count": 5,
   "metadata": {},
   "outputs": [
    {
     "data": {
      "text/plain": [
       "AudioMetadata(duration=Duration(minutes=None, seconds=133, hours=None), file_size_mb=5.07, codec='mp3', channels=2, sample_rate='44100')"
      ]
     },
     "execution_count": 5,
     "metadata": {},
     "output_type": "execute_result"
    }
   ],
   "source": [
    "ms = MetadataService()\n",
    "# ms.extract(\"sample_video.mp4\")\n",
    "ms.extract(\"audio_example.mp3\")"
   ]
  },
  {
   "cell_type": "code",
   "execution_count": 6,
   "metadata": {},
   "outputs": [
    {
     "data": {
      "text/plain": [
       "AudioMetadata(duration=Duration(minutes=None, seconds=133, hours=None), file_size_mb=5.07, codec='mp3', channels=2, sample_rate='44100')"
      ]
     },
     "execution_count": 6,
     "metadata": {},
     "output_type": "execute_result"
    }
   ],
   "source": [
    "ms.extract(\"audio_example.mp3\")"
   ]
  },
  {
   "cell_type": "code",
   "execution_count": null,
   "metadata": {},
   "outputs": [],
   "source": []
  }
 ],
 "metadata": {
  "kernelspec": {
   "display_name": "gng-backend-um1fDGW4-py3.11",
   "language": "python",
   "name": "python3"
  },
  "language_info": {
   "codemirror_mode": {
    "name": "ipython",
    "version": 3
   },
   "file_extension": ".py",
   "mimetype": "text/x-python",
   "name": "python",
   "nbconvert_exporter": "python",
   "pygments_lexer": "ipython3",
   "version": "3.11.9"
  }
 },
 "nbformat": 4,
 "nbformat_minor": 2
}
